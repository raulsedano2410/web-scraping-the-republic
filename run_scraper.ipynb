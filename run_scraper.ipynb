{
 "cells": [
  {
   "cell_type": "code",
   "execution_count": null,
   "metadata": {},
   "outputs": [],
   "source": [
    "%run url_collector.ipynb\n",
    "%run urls_processor.ipynb\n",
    "%run get_notice.ipynb\n"
   ]
  },
  {
   "cell_type": "code",
   "execution_count": null,
   "metadata": {},
   "outputs": [],
   "source": [
    "\n",
    "\n",
    "def run_all(keyword, from_date, to_date, modality):\n",
    "  file_process_file = scraper_one(keyword, from_date, to_date, modality)\n",
    "\n",
    "  spider = MySpider(start_urls_csv=file_process_file)\n",
    "  spider.start_requests()\n",
    "  filepath_news_links = spider._build_visited_urls_file(use_output_suffix=True)\n",
    "  scraper(filepath_news_links)\n",
    "\n"
   ]
  },
  {
   "cell_type": "code",
   "execution_count": null,
   "metadata": {},
   "outputs": [],
   "source": [
    "run_all(\"mafia nigeriana\", '1984-01-01', \"2024-01-01\", \"any\")"
   ]
  },
  {
   "cell_type": "code",
   "execution_count": null,
   "metadata": {},
   "outputs": [],
   "source": []
  }
 ],
 "metadata": {
  "kernelspec": {
   "display_name": "Python 3",
   "language": "python",
   "name": "python3"
  },
  "language_info": {
   "codemirror_mode": {
    "name": "ipython",
    "version": 3
   },
   "file_extension": ".py",
   "mimetype": "text/x-python",
   "name": "python",
   "nbconvert_exporter": "python",
   "pygments_lexer": "ipython3",
   "version": "3.11.5"
  }
 },
 "nbformat": 4,
 "nbformat_minor": 2
}
