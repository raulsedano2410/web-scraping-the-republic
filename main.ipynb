{
 "cells": [
  {
   "cell_type": "markdown",
   "metadata": {},
   "source": [
    "Run all!"
   ]
  },
  {
   "cell_type": "code",
   "execution_count": null,
   "metadata": {},
   "outputs": [],
   "source": [
    "%run url_collector.ipynb # noqa\n",
    "%run urls_processor.ipynb # noqa\n",
    "\n",
    "def main(keyword, from_date, to_date, modality):\n",
    "  file_process_file = scraper(keyword, from_date, to_date, modality) # noqa\n",
    "\n",
    "  spider = MySpider(start_urls_csv=file_process_file) # noqa\n",
    "  spider.start_requests()"
   ]
  },
  {
   "cell_type": "code",
   "execution_count": null,
   "metadata": {},
   "outputs": [],
   "source": [
    "main(\"sopa\", '2015-01-01', \"2020-01-01\", \"any\")"
   ]
  }
 ],
 "metadata": {
  "kernelspec": {
   "display_name": "Python 3",
   "language": "python",
   "name": "python3"
  },
  "language_info": {
   "codemirror_mode": {
    "name": "ipython",
    "version": 3
   },
   "file_extension": ".py",
   "mimetype": "text/x-python",
   "name": "python",
   "nbconvert_exporter": "python",
   "pygments_lexer": "ipython3",
   "version": "3.11.5"
  }
 },
 "nbformat": 4,
 "nbformat_minor": 2
}
